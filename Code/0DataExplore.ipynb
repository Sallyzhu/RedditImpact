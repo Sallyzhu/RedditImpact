{
 "cells": [
  {
   "cell_type": "code",
   "execution_count": 3,
   "id": "25af77e0",
   "metadata": {},
   "outputs": [],
   "source": [
    "import pandas as pd\n",
    "import matplotlib.pyplot as plt\n",
    "import seaborn as sns\n",
    "import re\n",
    "\n",
    "# Load the depression and anxiety datasets from CSV files\n",
    "depression_df = pd.read_csv('/.csv')\n",
    "anxiety_df = pd.read_csv('/.csv')\n",
    "\n",
    "# Define a function to extract keywords related to COVID-19 from a given string\n",
    "def extract_covid_keywords(text):\n",
    "    covid_keywords = []\n",
    "    if isinstance(text, str):\n",
    "        # Search for keywords in the selftext and title using regular expressions\n",
    "        covid_regex = re.compile(r'covid-19|coronavirus|pandemic|quarantine|lockdown|vaccine', re.IGNORECASE)\n",
    "        covid_keywords = covid_regex.findall(text)\n",
    "    return covid_keywords\n",
    "\n"
   ]
  },
  {
   "cell_type": "code",
   "execution_count": 4,
   "id": "3b72f27f",
   "metadata": {},
   "outputs": [
    {
     "data": {
      "text/html": [
       "<div>\n",
       "<style scoped>\n",
       "    .dataframe tbody tr th:only-of-type {\n",
       "        vertical-align: middle;\n",
       "    }\n",
       "\n",
       "    .dataframe tbody tr th {\n",
       "        vertical-align: top;\n",
       "    }\n",
       "\n",
       "    .dataframe thead th {\n",
       "        text-align: right;\n",
       "    }\n",
       "</style>\n",
       "<table border=\"1\" class=\"dataframe\">\n",
       "  <thead>\n",
       "    <tr style=\"text-align: right;\">\n",
       "      <th></th>\n",
       "      <th>author</th>\n",
       "      <th>created_utc</th>\n",
       "      <th>selftext</th>\n",
       "      <th>title</th>\n",
       "      <th>subreddit</th>\n",
       "    </tr>\n",
       "  </thead>\n",
       "  <tbody>\n",
       "    <tr>\n",
       "      <th>0</th>\n",
       "      <td>Supreme_wing</td>\n",
       "      <td>2019-04-01 00:03:28</td>\n",
       "      <td>god. i dont get people sometimes. just some pe...</td>\n",
       "      <td>Just a rant on a Sunday night</td>\n",
       "      <td>depression</td>\n",
       "    </tr>\n",
       "    <tr>\n",
       "      <th>1</th>\n",
       "      <td>tubrafinho</td>\n",
       "      <td>2019-04-01 00:13:47</td>\n",
       "      <td>this will be my first post here, and i'm relat...</td>\n",
       "      <td>what to do when you really want to die but at ...</td>\n",
       "      <td>depression</td>\n",
       "    </tr>\n",
       "    <tr>\n",
       "      <th>2</th>\n",
       "      <td>zillarillazilla</td>\n",
       "      <td>2019-04-01 00:14:20</td>\n",
       "      <td>apologies if this isn’t allowed - feel free to...</td>\n",
       "      <td>How to help my friend</td>\n",
       "      <td>depression</td>\n",
       "    </tr>\n",
       "  </tbody>\n",
       "</table>\n",
       "</div>"
      ],
      "text/plain": [
       "            author          created_utc  \\\n",
       "0     Supreme_wing  2019-04-01 00:03:28   \n",
       "1       tubrafinho  2019-04-01 00:13:47   \n",
       "2  zillarillazilla  2019-04-01 00:14:20   \n",
       "\n",
       "                                            selftext  \\\n",
       "0  god. i dont get people sometimes. just some pe...   \n",
       "1  this will be my first post here, and i'm relat...   \n",
       "2  apologies if this isn’t allowed - feel free to...   \n",
       "\n",
       "                                               title   subreddit  \n",
       "0                      Just a rant on a Sunday night  depression  \n",
       "1  what to do when you really want to die but at ...  depression  \n",
       "2                              How to help my friend  depression  "
      ]
     },
     "execution_count": 4,
     "metadata": {},
     "output_type": "execute_result"
    }
   ],
   "source": [
    "depression_df.head(3)"
   ]
  },
  {
   "cell_type": "code",
   "execution_count": 5,
   "id": "6622b863",
   "metadata": {},
   "outputs": [
    {
     "data": {
      "text/html": [
       "<div>\n",
       "<style scoped>\n",
       "    .dataframe tbody tr th:only-of-type {\n",
       "        vertical-align: middle;\n",
       "    }\n",
       "\n",
       "    .dataframe tbody tr th {\n",
       "        vertical-align: top;\n",
       "    }\n",
       "\n",
       "    .dataframe thead th {\n",
       "        text-align: right;\n",
       "    }\n",
       "</style>\n",
       "<table border=\"1\" class=\"dataframe\">\n",
       "  <thead>\n",
       "    <tr style=\"text-align: right;\">\n",
       "      <th></th>\n",
       "      <th>author</th>\n",
       "      <th>created_utc</th>\n",
       "      <th>selftext</th>\n",
       "      <th>title</th>\n",
       "      <th>subreddit</th>\n",
       "    </tr>\n",
       "  </thead>\n",
       "  <tbody>\n",
       "    <tr>\n",
       "      <th>0</th>\n",
       "      <td>egraham140</td>\n",
       "      <td>2019-04-01 00:01:57</td>\n",
       "      <td>i moved states about 9 months ago, didn’t make...</td>\n",
       "      <td>Moved, made very little “friends”, and now i f...</td>\n",
       "      <td>anxiety</td>\n",
       "    </tr>\n",
       "    <tr>\n",
       "      <th>1</th>\n",
       "      <td>Digmur</td>\n",
       "      <td>2019-04-01 00:17:47</td>\n",
       "      <td>and be that kid that didn't worry too much abo...</td>\n",
       "      <td>I wish i could go back in time</td>\n",
       "      <td>anxiety</td>\n",
       "    </tr>\n",
       "    <tr>\n",
       "      <th>2</th>\n",
       "      <td>edtehgar</td>\n",
       "      <td>2019-04-01 00:21:03</td>\n",
       "      <td>just wondering how other people cope or deal w...</td>\n",
       "      <td>Coping with anxiety attacks</td>\n",
       "      <td>anxiety</td>\n",
       "    </tr>\n",
       "  </tbody>\n",
       "</table>\n",
       "</div>"
      ],
      "text/plain": [
       "       author          created_utc  \\\n",
       "0  egraham140  2019-04-01 00:01:57   \n",
       "1      Digmur  2019-04-01 00:17:47   \n",
       "2    edtehgar  2019-04-01 00:21:03   \n",
       "\n",
       "                                            selftext  \\\n",
       "0  i moved states about 9 months ago, didn’t make...   \n",
       "1  and be that kid that didn't worry too much abo...   \n",
       "2  just wondering how other people cope or deal w...   \n",
       "\n",
       "                                               title subreddit  \n",
       "0  Moved, made very little “friends”, and now i f...   anxiety  \n",
       "1                     I wish i could go back in time   anxiety  \n",
       "2                        Coping with anxiety attacks   anxiety  "
      ]
     },
     "execution_count": 5,
     "metadata": {},
     "output_type": "execute_result"
    }
   ],
   "source": [
    "anxiety_df.head(3)"
   ]
  },
  {
   "cell_type": "code",
   "execution_count": 6,
   "id": "1ecabb5b",
   "metadata": {},
   "outputs": [],
   "source": [
    "# Apply the function to the selftext and title columns of both datasets\n",
    "depression_df['covid_keywords'] = depression_df['selftext'].apply(extract_covid_keywords) + depression_df['title'].apply(extract_covid_keywords)\n",
    "anxiety_df['covid_keywords'] = anxiety_df['selftext'].apply(extract_covid_keywords) + anxiety_df['title'].apply(extract_covid_keywords)\n"
   ]
  },
  {
   "cell_type": "code",
   "execution_count": 7,
   "id": "830ebf90",
   "metadata": {},
   "outputs": [
    {
     "data": {
      "text/html": [
       "<div>\n",
       "<style scoped>\n",
       "    .dataframe tbody tr th:only-of-type {\n",
       "        vertical-align: middle;\n",
       "    }\n",
       "\n",
       "    .dataframe tbody tr th {\n",
       "        vertical-align: top;\n",
       "    }\n",
       "\n",
       "    .dataframe thead th {\n",
       "        text-align: right;\n",
       "    }\n",
       "</style>\n",
       "<table border=\"1\" class=\"dataframe\">\n",
       "  <thead>\n",
       "    <tr style=\"text-align: right;\">\n",
       "      <th></th>\n",
       "      <th>author</th>\n",
       "      <th>created_utc</th>\n",
       "      <th>selftext</th>\n",
       "      <th>title</th>\n",
       "      <th>subreddit</th>\n",
       "      <th>covid_keywords</th>\n",
       "    </tr>\n",
       "  </thead>\n",
       "  <tbody>\n",
       "    <tr>\n",
       "      <th>0</th>\n",
       "      <td>egraham140</td>\n",
       "      <td>2019-04-01 00:01:57</td>\n",
       "      <td>i moved states about 9 months ago, didn’t make...</td>\n",
       "      <td>Moved, made very little “friends”, and now i f...</td>\n",
       "      <td>anxiety</td>\n",
       "      <td>[]</td>\n",
       "    </tr>\n",
       "    <tr>\n",
       "      <th>1</th>\n",
       "      <td>Digmur</td>\n",
       "      <td>2019-04-01 00:17:47</td>\n",
       "      <td>and be that kid that didn't worry too much abo...</td>\n",
       "      <td>I wish i could go back in time</td>\n",
       "      <td>anxiety</td>\n",
       "      <td>[]</td>\n",
       "    </tr>\n",
       "    <tr>\n",
       "      <th>2</th>\n",
       "      <td>edtehgar</td>\n",
       "      <td>2019-04-01 00:21:03</td>\n",
       "      <td>just wondering how other people cope or deal w...</td>\n",
       "      <td>Coping with anxiety attacks</td>\n",
       "      <td>anxiety</td>\n",
       "      <td>[]</td>\n",
       "    </tr>\n",
       "  </tbody>\n",
       "</table>\n",
       "</div>"
      ],
      "text/plain": [
       "       author          created_utc  \\\n",
       "0  egraham140  2019-04-01 00:01:57   \n",
       "1      Digmur  2019-04-01 00:17:47   \n",
       "2    edtehgar  2019-04-01 00:21:03   \n",
       "\n",
       "                                            selftext  \\\n",
       "0  i moved states about 9 months ago, didn’t make...   \n",
       "1  and be that kid that didn't worry too much abo...   \n",
       "2  just wondering how other people cope or deal w...   \n",
       "\n",
       "                                               title subreddit covid_keywords  \n",
       "0  Moved, made very little “friends”, and now i f...   anxiety             []  \n",
       "1                     I wish i could go back in time   anxiety             []  \n",
       "2                        Coping with anxiety attacks   anxiety             []  "
      ]
     },
     "execution_count": 7,
     "metadata": {},
     "output_type": "execute_result"
    }
   ],
   "source": [
    "anxiety_df.head(3)"
   ]
  },
  {
   "cell_type": "code",
   "execution_count": 10,
   "id": "50b0b96f",
   "metadata": {},
   "outputs": [],
   "source": [
    "# Convert the 'created_utc' column to datetime type\n",
    "depression_df['created_utc'] = pd.to_datetime(depression_df['created_utc'])\n",
    "anxiety_df['created_utc'] = pd.to_datetime(anxiety_df['created_utc'])\n"
   ]
  },
  {
   "cell_type": "code",
   "execution_count": 11,
   "id": "bc2eaccd",
   "metadata": {},
   "outputs": [],
   "source": [
    "\n",
    "# Group the data by year and count the number of posts containing COVID-19 keywords\n",
    "depression_covid_count = depression_df.groupby(depression_df['created_utc'].dt.year)['covid_keywords'].apply(lambda x: sum(map(len, x)))\n",
    "anxiety_covid_count = anxiety_df.groupby(anxiety_df['created_utc'].dt.year)['covid_keywords'].apply(lambda x: sum(map(len, x)))"
   ]
  },
  {
   "cell_type": "code",
   "execution_count": 37,
   "id": "6fb7d2ba",
   "metadata": {},
   "outputs": [],
   "source": [
    "# Define a function to check if the 'covid_keywords' column is empty\n",
    "# Define a function to check if the 'covid_keywords' column is empty\n",
    "def is_empty(row):\n",
    "    if pd.isnull(row['covid_keywords']):\n",
    "        return True\n",
    "    if not row['covid_keywords']:\n",
    "        return True\n",
    "    return False\n",
    "\n"
   ]
  },
  {
   "cell_type": "code",
   "execution_count": 12,
   "id": "516beff5",
   "metadata": {},
   "outputs": [
    {
     "data": {
      "image/png": "[encoded data removed]",
      "text/plain": [
       "<Figure size 720x432 with 1 Axes>"
      ]
     },
     "metadata": {},
     "output_type": "display_data"
    }
   ],
   "source": [
    "\n",
    "# Plot the results as a line chart\n",
    "sns.set_style('whitegrid')\n",
    "plt.figure(figsize=(10,6))\n",
    "plt.plot(depression_covid_count.index, depression_covid_count.values, label='Depression')\n",
    "plt.plot(anxiety_covid_count.index, anxiety_covid_count.values, label='Anxiety')\n",
    "plt.title('Number of Reddit posts mentioning COVID-19 keywords by year')\n",
    "plt.xlabel('Year')\n",
    "plt.ylabel('Number of posts')\n",
    "plt.legend()\n",
    "plt.show()\n"
   ]
  },
  {
   "cell_type": "code",
   "execution_count": null,
   "id": "7e914767",
   "metadata": {},
   "outputs": [],
   "source": [
    "#word frequency "
   ]
  },
  {
   "cell_type": "code",
   "execution_count": 23,
   "id": "2c99df1b",
   "metadata": {},
   "outputs": [],
   "source": [
    "# Define a function to preprocess the text data\n",
    "# Define a function to preprocess the text data\n",
    "def preprocess_text(text):\n",
    "    # Replace missing values with empty strings\n",
    "    text = str(text)\n",
    "    # Convert to lowercase\n",
    "    text = text.lower()\n",
    "    # Remove URLs\n",
    "    text = re.sub(r'http\\S+', '', text)\n",
    "    # Remove punctuation and digits\n",
    "    text = re.sub(r'[^\\w\\s]', '', text)\n",
    "    text = re.sub(r'\\d+', '', text)\n",
    "    # Tokenize the text\n",
    "    tokens = nltk.word_tokenize(text)\n",
    "    # Remove stop words and short words\n",
    "    stop_words = set(stopwords.words('english'))\n",
    "    tokens = [token for token in tokens if token not in stop_words and len(token) > 2]\n",
    "    # Lemmatize the tokens\n",
    "    lemmatizer = nltk.stem.WordNetLemmatizer()\n",
    "    tokens = [lemmatizer.lemmatize(token) for token in tokens]\n",
    "    # Join the tokens back into a string\n",
    "    text = ' '.join(tokens)\n",
    "    return text"
   ]
  },
  {
   "cell_type": "code",
   "execution_count": 24,
   "id": "5cae179b",
   "metadata": {},
   "outputs": [],
   "source": [
    "import pandas as pd\n",
    "import matplotlib.pyplot as plt\n",
    "import seaborn as sns\n",
    "import re\n",
    "from collections import Counter\n",
    "import nltk\n",
    "from nltk.corpus import stopwords\n",
    "# Apply the function to the selftext column of both datasets\n",
    "depression_df['clean_selftext'] = depression_df['selftext'].apply(preprocess_text)\n",
    "anxiety_df['clean_selftext'] = anxiety_df['selftext'].apply(preprocess_text)\n"
   ]
  },
  {
   "cell_type": "code",
   "execution_count": 25,
   "id": "c0b98c01",
   "metadata": {},
   "outputs": [],
   "source": [
    "# Define a function to get the top n words by frequency in a given text column\n",
    "def get_top_words(text_column, n):\n",
    "    # Combine all the text into a single string\n",
    "    all_text = ' '.join(text_column)\n",
    "    # Tokenize the text\n",
    "    tokens = nltk.word_tokenize(all_text)\n",
    "    # Remove stop words\n",
    "    stop_words = set(stopwords.words('english'))\n",
    "    tokens = [token for token in tokens if token not in stop_words]\n",
    "    # Count the frequency of each word\n",
    "    word_counts = Counter(tokens)\n",
    "    # Get the top n words by frequency\n",
    "    top_words = word_counts.most_common(n)\n",
    "    return top_words"
   ]
  },
  {
   "cell_type": "code",
   "execution_count": 26,
   "id": "77ac0946",
   "metadata": {},
   "outputs": [],
   "source": [
    "# Get the top 20 words by frequency for each year in the depression subreddit\n",
    "depression_top_words_by_year = {}\n",
    "for year in range(2010, 2023):\n",
    "    depression_year_df = depression_df[depression_df['created_utc'].dt.year == year]\n",
    "    depression_top_words_by_year[year] = get_top_words(depression_year_df['clean_selftext'], n=20)\n"
   ]
  },
  {
   "cell_type": "code",
   "execution_count": 41,
   "id": "29ec3c2f",
   "metadata": {},
   "outputs": [
    {
     "data": {
      "text/plain": [
       "[('dont', 114601),\n",
       " ('feel', 114523),\n",
       " ('like', 114477),\n",
       " ('want', 73293),\n",
       " ('life', 71127),\n",
       " ('know', 69893),\n",
       " ('get', 64214),\n",
       " ('ive', 62492),\n",
       " ('time', 59865),\n",
       " ('even', 57347),\n",
       " ('cant', 53705),\n",
       " ('year', 49879),\n",
       " ('thing', 47718),\n",
       " ('people', 46676),\n",
       " ('friend', 46128),\n",
       " ('day', 44930),\n",
       " ('really', 44417),\n",
       " ('one', 42520),\n",
       " ('would', 36571),\n",
       " ('make', 36176)]"
      ]
     },
     "execution_count": 41,
     "metadata": {},
     "output_type": "execute_result"
    }
   ],
   "source": [
    "depression_top_words_by_year[year]"
   ]
  },
  {
   "cell_type": "code",
   "execution_count": null,
   "id": "2583c2f9",
   "metadata": {},
   "outputs": [],
   "source": []
  }
 ],
 "metadata": {
  "kernelspec": {
   "display_name": "Python 3",
   "language": "python",
   "name": "python3"
  },
  "language_info": {
   "codemirror_mode": {
    "name": "ipython",
    "version": 3
   },
   "file_extension": ".py",
   "mimetype": "text/x-python",
   "name": "python",
   "nbconvert_exporter": "python",
   "pygments_lexer": "ipython3",
   "version": "3.6.13"
  }
 },
 "nbformat": 4,
 "nbformat_minor": 5
}
